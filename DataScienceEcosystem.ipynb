{
 "cells": [
  {
   "cell_type": "markdown",
   "id": "039e6f8a",
   "metadata": {},
   "source": [
    "# Data Science Tools and Ecosystem\n",
    "\n",
    "In this notebook, Data Science Tools and Ecosystem are summarized.\n",
    "\n",
    "Some of the popular languages that Data Scientists use are:\n",
    "\n",
    "1. Python\n",
    "2. R\n",
    "3. Julia\n",
    "4. SAS\n",
    "5. SQL\n",
    "\n",
    "These languages are widely utilized for tasks such as data analysis, statistical modeling, machine learning, and more in the field of data science.\n",
    "\n",
    "Some of the commonly used libraries used by Data Scientists include:\n",
    "\n",
    "1. **NumPy**: A fundamental package for scientific computing with Python. It provides support for arrays, matrices, and various mathematical functions.\n",
    "\n",
    "2. **Pandas**: A powerful library for data manipulation and analysis. It offers data structures like DataFrame, which allows for efficient handling of tabular data.\n",
    "\n",
    "3. **Scikit-Learn**: A machine learning library that provides simple and efficient tools for data mining and data analysis. It includes a wide range of algorithms for classification, regression, clustering, and more.\n",
    "\n",
    "4. **Matplotlib**: A popular library for creating static, animated, and interactive visualizations in Python. It is often used for plotting graphs and charts.\n",
    "\n",
    "5. **Seaborn**: Built on top of Matplotlib, Seaborn is another data visualization library that provides a high-level interface for creating attractive and informative statistical graphics.\n",
    "\n",
    "6. **TensorFlow**: An open-source machine learning framework developed by Google. It's widely used for deep learning tasks, including neural networks.\n",
    "\n",
    "7. **PyTorch**: Another popular deep learning framework that's known for its dynamic computation graph and user-friendly interface.\n",
    "\n",
    "These libraries play a crucial role in enabling data scientists to effectively manipulate, analyze, and visualize data, as well as build and train machine learning models.\n",
    "\n",
    "\n",
    "| Data Science Tools |\n",
    "|--------------------|\n",
    "| Jupyter Notebook   |\n",
    "| RStudio            |\n",
    "| VS Code            |\n",
    "\n",
    "\n",
    "### Below are a few examples of evaluating arithmetic expressions in Python."
   ]
  },
  {
   "cell_type": "code",
   "execution_count": 3,
   "id": "8b8d71ab",
   "metadata": {},
   "outputs": [
    {
     "data": {
      "text/plain": [
       "17"
      ]
     },
     "execution_count": 3,
     "metadata": {},
     "output_type": "execute_result"
    }
   ],
   "source": [
    "# This is a simple arithmetic expression to multiply then add integers.\n",
    "result = (3 * 4) + 5\n",
    "result"
   ]
  },
  {
   "cell_type": "code",
   "execution_count": 4,
   "id": "7aae7932",
   "metadata": {},
   "outputs": [
    {
     "data": {
      "text/plain": [
       "3.3333333333333335"
      ]
     },
     "execution_count": 4,
     "metadata": {},
     "output_type": "execute_result"
    }
   ],
   "source": [
    "# This will convert 200 minutes to hours by dividing by 60.\n",
    "minutes = 200\n",
    "hours = minutes / 60\n",
    "hours"
   ]
  },
  {
   "cell_type": "markdown",
   "id": "9ebdd4cd",
   "metadata": {},
   "source": [
    "## Objectives\n",
    "\n",
    "In this notebook, we have covered the following key objectives:\n",
    "\n",
    "- **List popular languages for Data Science**: We discussed some of the widely used programming languages in the field of data science, such as Python, R, and Julia.\n",
    "\n",
    "- **Explore commonly used Data Science libraries**: We introduced important libraries like NumPy, Pandas, and Scikit-Learn that are essential for various data manipulation, analysis, and machine learning tasks.\n",
    "\n",
    "- **Introduction to Data Science tools**: We mentioned tools like Jupyter Notebook, RStudio, and VS Code that provide environments for effective data science development.\n",
    "\n",
    "- **Evaluate Arithmetic Expressions in Python**: We looked at how to perform basic arithmetic operations and expressions using Python.\n",
    "\n",
    "- **Convert Units**: We demonstrated how to convert units, such as converting minutes to hours.\n",
    "\n",
    "These objectives provide a solid foundation for understanding fundamental concepts and tools used in the field of Data Science."
   ]
  },
  {
   "cell_type": "markdown",
   "id": "cab75e60",
   "metadata": {},
   "source": [
    "## Author\n",
    "Betül Karakuş"
   ]
  },
  {
   "cell_type": "code",
   "execution_count": null,
   "id": "448b3a5f",
   "metadata": {},
   "outputs": [],
   "source": []
  }
 ],
 "metadata": {
  "kernelspec": {
   "display_name": "Python 3 (ipykernel)",
   "language": "python",
   "name": "python3"
  },
  "language_info": {
   "codemirror_mode": {
    "name": "ipython",
    "version": 3
   },
   "file_extension": ".py",
   "mimetype": "text/x-python",
   "name": "python",
   "nbconvert_exporter": "python",
   "pygments_lexer": "ipython3",
   "version": "3.9.13"
  }
 },
 "nbformat": 4,
 "nbformat_minor": 5
}
